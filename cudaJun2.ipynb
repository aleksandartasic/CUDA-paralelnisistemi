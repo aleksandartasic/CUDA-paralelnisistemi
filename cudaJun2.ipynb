{
  "nbformat": 4,
  "nbformat_minor": 0,
  "metadata": {
    "colab": {
      "provenance": [],
      "gpuType": "T4",
      "authorship_tag": "ABX9TyPPeQaGM3WhWj3hL4HDPfNm",
      "include_colab_link": true
    },
    "kernelspec": {
      "name": "python3",
      "display_name": "Python 3"
    },
    "language_info": {
      "name": "python"
    },
    "accelerator": "GPU"
  },
  "cells": [
    {
      "cell_type": "markdown",
      "metadata": {
        "id": "view-in-github",
        "colab_type": "text"
      },
      "source": [
       
      ]
    },
    {
      "cell_type": "code",
      "execution_count": null,
      "metadata": {
        "id": "ojsZCZ-YVyw7",
        "colab": {
          "base_uri": "https://localhost:8080/"
        },
        "outputId": "88468f9c-085a-4bab-848c-a8e194528698"
      },
      "outputs": [
        {
          "output_type": "stream",
          "name": "stdout",
          "text": [
            "B = 1.000000 2.666667 5.000000 8.000000 11.666667 16.000000 21.000000 26.666666 33.000000 40.000000 47.666668 56.000000 65.000000 74.666664 85.000000 96.000000 107.666664 120.000000 133.000000 146.666672 161.000000 176.000000 191.666672 208.000000 225.000000 \n",
            "\n"
          ]
        }
      ],
      "source": [
        "%%cu\n",
        "\n",
        "#include <stdio.h>\n",
        "\n",
        "#define N 27\n",
        "#define BLOCK_SIZE 5\n",
        "\n",
        "__global__ void izracunajB(float* A, float* B)\n",
        "{\n",
        "    __shared__ float sharedA[BLOCK_SIZE + 2];\n",
        "\n",
        "    int tid = blockIdx.x * blockDim.x + threadIdx.x;\n",
        "\n",
        "    if (tid < N)\n",
        "    {\n",
        "        if (threadIdx.x<BLOCK_SIZE){\n",
        "        sharedA[threadIdx.x] = A[tid];}\n",
        "        if (threadIdx.x == 0 )\n",
        "        {\n",
        "            sharedA[BLOCK_SIZE] = A[tid+BLOCK_SIZE];\n",
        "        }\n",
        "        if (threadIdx.x == 1 )\n",
        "        {\n",
        "            sharedA[BLOCK_SIZE +1] = A[tid+BLOCK_SIZE];\n",
        "        }\n",
        "    }\n",
        "    __syncthreads();\n",
        "\n",
        "    if (tid < N - 2)\n",
        "    {\n",
        "\n",
        "        B[tid] =  (sharedA[threadIdx.x] * sharedA[threadIdx.x + 1] * sharedA[threadIdx.x + 2]) / (sharedA[threadIdx.x] + sharedA[threadIdx.x + 1] + sharedA[threadIdx.x + 2]);\n",
        "    }\n",
        "}\n",
        "\n",
        "int main()\n",
        "{\n",
        "    float A[27] = {1, 2,3,4,5,6,7,8,9,10,11,12,13,14,15,16,17,18,19,20,21,22, 23, 24,25,26,27};\n",
        "    float B[27 - 2];\n",
        "\n",
        "    float* d_A;\n",
        "    float* d_B;\n",
        "    cudaMalloc((void**)&d_A, N * sizeof(float));\n",
        "    cudaMalloc((void**)&d_B, (N - 2) * sizeof(float));\n",
        "\n",
        "    cudaMemcpy(d_A, A, N * sizeof(float), cudaMemcpyHostToDevice);\n",
        "    int numBlocks = (N - 2 + BLOCK_SIZE - 1) / BLOCK_SIZE;\n",
        "    izracunajB<<<numBlocks, BLOCK_SIZE>>>(d_A, d_B);\n",
        "\n",
        "    cudaMemcpy(B, d_B, (N - 2) * sizeof(float), cudaMemcpyDeviceToHost);\n",
        "\n",
        "    printf(\"B = \");\n",
        "    for (int i = 0; i < N - 2; i++)\n",
        "    {\n",
        "        printf(\"%f \", B[i]);\n",
        "    }\n",
        "    printf(\"\\n\");\n",
        "    cudaFree(d_A);\n",
        "    cudaFree(d_B);\n",
        "\n",
        "    return 0;\n",
        "}\n"
      ]
    },
    {
      "cell_type": "code",
      "source": [
        "%%cu\n",
        "\n",
        "#include <stdio.h>\n",
        "\n",
        "#define N 27\n",
        "#define BLOCK_SIZE 4\n",
        "\n",
        "__global__ void izracunajB(float* A, float* B)\n",
        "{\n",
        "    __shared__ float sharedA[BLOCK_SIZE + 2];\n",
        "\n",
        "    int tid = threadIdx.x;\n",
        "    int indeks = blockIdx.x * blockDim.x + threadIdx.x;\n",
        "\n",
        "    // Load data into shared memory\n",
        "    if (indeks < N)\n",
        "    {\n",
        "        sharedA[tid] = A[indeks];\n",
        "        if (tid == BLOCK_SIZE-2)\n",
        "        {\n",
        "\n",
        "            sharedA[BLOCK_SIZE] = A[indeks + 2];\n",
        "        }\n",
        "        if (tid == BLOCK_SIZE-1)\n",
        "        {\n",
        "\n",
        "            sharedA[BLOCK_SIZE+1] = A[indeks + 2];\n",
        "        }\n",
        "    }\n",
        "    __syncthreads();\n",
        "\n",
        "    if (indeks < N - 2)\n",
        "    {\n",
        "\n",
        "        B[indeks] =  (sharedA[tid] * sharedA[tid + 1] * sharedA[tid + 2]) / (sharedA[tid] + sharedA[tid + 1] + sharedA[tid + 2]);\n",
        "    }\n",
        "}\n",
        "\n",
        "int main()\n",
        "{\n",
        "    float A[27] = {1, 2,3,4,5,6,7,8,9,10,11,12,13,14,15,16,17,18,19,20,21,22, 23, 24,25,26,27};\n",
        "    float B[27 - 2];\n",
        "\n",
        "    float* d_A;\n",
        "    float* d_B;\n",
        "    cudaMalloc((void**)&d_A, N * sizeof(float));\n",
        "    cudaMalloc((void**)&d_B, (N - 2) * sizeof(float));\n",
        "\n",
        "    cudaMemcpy(d_A, A, N * sizeof(float), cudaMemcpyHostToDevice);\n",
        "    int numBlocks = (N - 2 + BLOCK_SIZE - 1) / BLOCK_SIZE;\n",
        "    izracunajB<<<numBlocks, BLOCK_SIZE>>>(d_A, d_B);\n",
        "\n",
        "    cudaMemcpy(B, d_B, (N - 2) * sizeof(float), cudaMemcpyDeviceToHost);\n",
        "\n",
        "    printf(\"B = \");\n",
        "    for (int i = 0; i < N - 2; i++)\n",
        "    {\n",
        "        printf(\"%f \", B[i]);\n",
        "    }\n",
        "    printf(\"\\n\");\n",
        "    cudaFree(d_A);\n",
        "    cudaFree(d_B);\n",
        "\n",
        "    return 0;\n",
        "}"
      ],
      "metadata": {
        "colab": {
          "base_uri": "https://localhost:8080/"
        },
        "id": "9CRhT5_gAq_V",
        "outputId": "ffa1ea3d-bf53-41cc-9906-02eea0c13477"
      },
      "execution_count": null,
      "outputs": [
        {
          "output_type": "stream",
          "name": "stdout",
          "text": [
            "B = 1.000000 2.666667 5.000000 8.000000 11.666667 16.000000 21.000000 26.666666 33.000000 40.000000 47.666668 56.000000 65.000000 74.666664 85.000000 96.000000 107.666664 120.000000 133.000000 146.666672 161.000000 176.000000 191.666672 208.000000 225.000000 \n",
            "\n"
          ]
        }
      ]
    },
    {
      "cell_type": "code",
      "source": [
        "!nvcc --version\n",
        "!pip install git+https://github.com/andreinechaev/nvcc4jupyter.git\n",
        "%load_ext nvcc_plugin"
      ],
      "metadata": {
        "colab": {
          "base_uri": "https://localhost:8080/"
        },
        "id": "PYDLtqpfWJvb",
        "outputId": "1535604e-9acf-406c-a866-00ab9ebe4410"
      },
      "execution_count": null,
      "outputs": [
        {
          "output_type": "stream",
          "name": "stdout",
          "text": [
            "nvcc: NVIDIA (R) Cuda compiler driver\n",
            "Copyright (c) 2005-2022 NVIDIA Corporation\n",
            "Built on Wed_Sep_21_10:33:58_PDT_2022\n",
            "Cuda compilation tools, release 11.8, V11.8.89\n",
            "Build cuda_11.8.r11.8/compiler.31833905_0\n",
            "Collecting git+https://github.com/andreinechaev/nvcc4jupyter.git\n",
            "  Cloning https://github.com/andreinechaev/nvcc4jupyter.git to /tmp/pip-req-build-5sftfuj0\n",
            "  Running command git clone --filter=blob:none --quiet https://github.com/andreinechaev/nvcc4jupyter.git /tmp/pip-req-build-5sftfuj0\n",
            "  Resolved https://github.com/andreinechaev/nvcc4jupyter.git to commit 0a71d56e5dce3ff1f0dd2c47c29367629262f527\n",
            "  Preparing metadata (setup.py) ... \u001b[?25l\u001b[?25hdone\n",
            "Building wheels for collected packages: NVCCPlugin\n",
            "  Building wheel for NVCCPlugin (setup.py) ... \u001b[?25l\u001b[?25hdone\n",
            "  Created wheel for NVCCPlugin: filename=NVCCPlugin-0.0.2-py3-none-any.whl size=4295 sha256=1e6dd26651778e91ba37a27729192e0bde7f3a4f3cd21f65c383cba1c7bb4d7b\n",
            "  Stored in directory: /tmp/pip-ephem-wheel-cache-n4ryhqmc/wheels/a8/b9/18/23f8ef71ceb0f63297dd1903aedd067e6243a68ea756d6feea\n",
            "Successfully built NVCCPlugin\n",
            "Installing collected packages: NVCCPlugin\n",
            "Successfully installed NVCCPlugin-0.0.2\n",
            "created output directory at /content/src\n",
            "Out bin /content/result.out\n"
          ]
        }
      ]
    }
  ]
}
